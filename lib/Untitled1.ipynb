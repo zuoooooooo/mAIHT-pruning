{
 "cells": [
  {
   "cell_type": "code",
   "execution_count": 1,
   "id": "8cc2b7ca-e5b8-419b-ad3c-69e4aba7dabf",
   "metadata": {
    "execution": {
     "iopub.execute_input": "2024-08-18T06:17:37.862952Z",
     "iopub.status.busy": "2024-08-18T06:17:37.862351Z",
     "iopub.status.idle": "2024-08-18T06:17:38.836869Z",
     "shell.execute_reply": "2024-08-18T06:17:38.835800Z",
     "shell.execute_reply.started": "2024-08-18T06:17:37.862898Z"
    }
   },
   "outputs": [],
   "source": [
    "import torch"
   ]
  },
  {
   "cell_type": "code",
   "execution_count": 4,
   "id": "31d12a30-4131-419a-a233-66ab7ba145d9",
   "metadata": {
    "execution": {
     "iopub.execute_input": "2024-08-18T06:18:16.065168Z",
     "iopub.status.busy": "2024-08-18T06:18:16.064540Z",
     "iopub.status.idle": "2024-08-18T06:18:16.072642Z",
     "shell.execute_reply": "2024-08-18T06:18:16.070890Z",
     "shell.execute_reply.started": "2024-08-18T06:18:16.065115Z"
    }
   },
   "outputs": [],
   "source": [
    "X=torch.rand(2,3)"
   ]
  },
  {
   "cell_type": "code",
   "execution_count": 5,
   "id": "028227c9-776c-4784-b29c-085a99d624b3",
   "metadata": {
    "execution": {
     "iopub.execute_input": "2024-08-18T06:18:17.853789Z",
     "iopub.status.busy": "2024-08-18T06:18:17.853142Z",
     "iopub.status.idle": "2024-08-18T06:18:17.862486Z",
     "shell.execute_reply": "2024-08-18T06:18:17.860770Z",
     "shell.execute_reply.started": "2024-08-18T06:18:17.853733Z"
    }
   },
   "outputs": [],
   "source": [
    "M=1/torch.diag(X.T @ X)"
   ]
  },
  {
   "cell_type": "code",
   "execution_count": 6,
   "id": "fb50721e-2634-4097-bd88-baee6e18113d",
   "metadata": {
    "execution": {
     "iopub.execute_input": "2024-08-18T06:18:33.981548Z",
     "iopub.status.busy": "2024-08-18T06:18:33.980926Z",
     "iopub.status.idle": "2024-08-18T06:18:33.993186Z",
     "shell.execute_reply": "2024-08-18T06:18:33.991517Z",
     "shell.execute_reply.started": "2024-08-18T06:18:33.981495Z"
    }
   },
   "outputs": [
    {
     "name": "stdout",
     "output_type": "stream",
     "text": [
      "tensor([1.7452, 0.5987, 2.3128])\n",
      "tensor([0.5730, 1.6703, 0.4324])\n"
     ]
    }
   ],
   "source": [
    "print(M)\n",
    "print(torch.diag(X.T @ X))"
   ]
  }
 ],
 "metadata": {
  "kernelspec": {
   "display_name": "Python 3 (ipykernel)",
   "language": "python",
   "name": "python3"
  },
  "language_info": {
   "codemirror_mode": {
    "name": "ipython",
    "version": 3
   },
   "file_extension": ".py",
   "mimetype": "text/x-python",
   "name": "python",
   "nbconvert_exporter": "python",
   "pygments_lexer": "ipython3",
   "version": "3.9.12"
  }
 },
 "nbformat": 4,
 "nbformat_minor": 5
}

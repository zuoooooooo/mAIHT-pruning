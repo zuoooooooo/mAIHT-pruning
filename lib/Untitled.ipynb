{
 "cells": [
  {
   "cell_type": "code",
   "execution_count": 1,
   "id": "86704b41-8934-4340-89ce-a9ef699356a7",
   "metadata": {
    "execution": {
     "iopub.execute_input": "2024-08-13T07:56:48.996018Z",
     "iopub.status.busy": "2024-08-13T07:56:48.994962Z",
     "iopub.status.idle": "2024-08-13T07:56:49.432459Z",
     "shell.execute_reply": "2024-08-13T07:56:49.431509Z",
     "shell.execute_reply.started": "2024-08-13T07:56:48.995953Z"
    }
   },
   "outputs": [
    {
     "ename": "ModuleNotFoundError",
     "evalue": "No module named 'lib'",
     "output_type": "error",
     "traceback": [
      "\u001b[0;31m---------------------------------------------------------------------------\u001b[0m",
      "\u001b[0;31mModuleNotFoundError\u001b[0m                       Traceback (most recent call last)",
      "Cell \u001b[0;32mIn[1], line 1\u001b[0m\n\u001b[0;32m----> 1\u001b[0m \u001b[38;5;28;01mfrom\u001b[39;00m \u001b[38;5;21;01mlib\u001b[39;00m\u001b[38;5;21;01m.\u001b[39;00m\u001b[38;5;21;01mprox\u001b[39;00m \u001b[38;5;28;01mimport\u001b[39;00m ProxPruner\n",
      "\u001b[0;31mModuleNotFoundError\u001b[0m: No module named 'lib'"
     ]
    }
   ],
   "source": [
    "from lib.prox import ProxPruner\n"
   ]
  },
  {
   "cell_type": "code",
   "execution_count": 4,
   "id": "f2568326-c8ba-4a18-af06-df27db201f9a",
   "metadata": {
    "execution": {
     "iopub.execute_input": "2024-08-13T12:00:35.454371Z",
     "iopub.status.busy": "2024-08-13T12:00:35.453739Z",
     "iopub.status.idle": "2024-08-13T12:00:35.525942Z",
     "shell.execute_reply": "2024-08-13T12:00:35.525051Z",
     "shell.execute_reply.started": "2024-08-13T12:00:35.454313Z"
    }
   },
   "outputs": [
    {
     "data": {
      "text/plain": [
       "torch.return_types.linalg_eigh(\n",
       "eigenvalues=tensor([1.6678e-04, 4.0517e-01, 2.9859e+00]),\n",
       "eigenvectors=tensor([[-0.4941,  0.3106, -0.8120],\n",
       "        [ 0.0754, -0.9152, -0.3959],\n",
       "        [ 0.8661,  0.2569, -0.4287]]))"
      ]
     },
     "execution_count": 4,
     "metadata": {},
     "output_type": "execute_result"
    }
   ],
   "source": [
    "\n",
    "import torch\n",
    "X=torch.rand(3,3)\n",
    "\n",
    "torch.linalg.eigh(X.T.matmul(X))"
   ]
  },
  {
   "cell_type": "code",
   "execution_count": 7,
   "id": "819e5569-357c-426a-86ea-5aa5eaac8dae",
   "metadata": {
    "execution": {
     "iopub.execute_input": "2024-08-13T13:52:51.061778Z",
     "iopub.status.busy": "2024-08-13T13:52:51.061155Z",
     "iopub.status.idle": "2024-08-13T13:52:51.072699Z",
     "shell.execute_reply": "2024-08-13T13:52:51.071383Z",
     "shell.execute_reply.started": "2024-08-13T13:52:51.061722Z"
    }
   },
   "outputs": [
    {
     "name": "stdout",
     "output_type": "stream",
     "text": [
      "tensor([1.6678e-04, 4.0517e-01, 2.9859e+00])\n",
      "tensor(2.9859)\n"
     ]
    }
   ],
   "source": [
    "eigenvalues, eigenvectors = torch.linalg.eigh(X.T.matmul(X))\n",
    "max_eigenvalue = eigenvalues[-1]\n",
    "\n",
    "print(eigenvalues)\n",
    "print(max_eigenvalue)"
   ]
  },
  {
   "cell_type": "code",
   "execution_count": 8,
   "id": "e2cd6bd4-fc24-41e1-bdc4-dab2b5cf3663",
   "metadata": {
    "execution": {
     "iopub.execute_input": "2024-08-13T14:41:45.153902Z",
     "iopub.status.busy": "2024-08-13T14:41:45.153275Z",
     "iopub.status.idle": "2024-08-13T14:41:45.323530Z",
     "shell.execute_reply": "2024-08-13T14:41:45.321739Z",
     "shell.execute_reply.started": "2024-08-13T14:41:45.153845Z"
    }
   },
   "outputs": [
    {
     "name": "stdout",
     "output_type": "stream",
     "text": [
      "python: can't open file '/home/zyh/lib/main.py': [Errno 2] No such file or directory\n"
     ]
    }
   ],
   "source": [
    "!python main.py \\\n",
    "    --model baffo32/decapoda-research-llama-7B-hf \\\n",
    "    --prune_method magnitude \\\n",
    "    --sparsity_ratio 0.6 \\\n",
    "    --sparsity_type unstructured \\\n",
    "    --save out/llama_7b/unstructured/MP/  \\"
   ]
  },
  {
   "cell_type": "code",
   "execution_count": 9,
   "id": "f55418fe-16ec-444e-9949-20adea949c59",
   "metadata": {
    "execution": {
     "iopub.execute_input": "2024-09-01T09:21:07.900449Z",
     "iopub.status.busy": "2024-09-01T09:21:07.899773Z",
     "iopub.status.idle": "2024-09-01T09:21:08.527180Z",
     "shell.execute_reply": "2024-09-01T09:21:08.526435Z",
     "shell.execute_reply.started": "2024-09-01T09:21:07.900394Z"
    }
   },
   "outputs": [
    {
     "name": "stdout",
     "output_type": "stream",
     "text": [
      "SciPy 计算的最大特征值是: (89.63238+0j)\n",
      "PyTorch 计算的最大特征值是: 89.63311004638672\n",
      "SciPy 耗时: 0.03585553169250488 秒\n",
      "PyTorch 耗时: 0.5628566741943359 秒\n"
     ]
    }
   ],
   "source": [
    "import torch\n",
    "import numpy as np\n",
    "from scipy.sparse.linalg import eigs\n",
    "import time\n",
    "\n",
    "# 创建一个 PyTorch 张量\n",
    "A_torch = torch.randn(1000, 1000)\n",
    "A_torch=A_torch+A_torch.T\n",
    "A_np = A_torch.numpy()\n",
    "\n",
    "# 计算最大特征值 (使用 SciPy)\n",
    "start_time_scipy = time.time()\n",
    "values, _ = eigs(A_np, k=1, which='LM')\n",
    "max_eigenvalue_scipy = np.max(values)\n",
    "end_time_scipy = time.time()\n",
    "\n",
    "# 计算时间\n",
    "time_scipy = end_time_scipy - start_time_scipy\n",
    "\n",
    "# 计算最大特征值 (使用 PyTorch)\n",
    "start_time_torch = time.time()\n",
    "eigenvalues_torch = torch.linalg.eigvals(A_torch)\n",
    "\n",
    "max_eigenvalue_torch = torch.max(torch.abs(eigenvalues_torch)).item()\n",
    "end_time_torch = time.time()\n",
    "\n",
    "# 计算时间\n",
    "time_torch = end_time_torch - start_time_torch\n",
    "\n",
    "print(\"SciPy 计算的最大特征值是:\", max_eigenvalue_scipy)\n",
    "print(\"PyTorch 计算的最大特征值是:\", max_eigenvalue_torch)\n",
    "print(\"SciPy 耗时:\", time_scipy, \"秒\")\n",
    "print(\"PyTorch 耗时:\", time_torch, \"秒\")\n"
   ]
  },
  {
   "cell_type": "code",
   "execution_count": 2,
   "id": "64f2b752-3383-4db3-b789-26d92d90f37b",
   "metadata": {
    "execution": {
     "iopub.execute_input": "2024-09-02T02:52:39.381510Z",
     "iopub.status.busy": "2024-09-02T02:52:39.380608Z",
     "iopub.status.idle": "2024-09-02T02:52:39.665938Z",
     "shell.execute_reply": "2024-09-02T02:52:39.665131Z",
     "shell.execute_reply.started": "2024-09-02T02:52:39.381445Z"
    }
   },
   "outputs": [
    {
     "data": {
      "image/png": "[encoded data removed]",
      "text/plain": [
       "<Figure size 640x480 with 1 Axes>"
      ]
     },
     "metadata": {},
     "output_type": "display_data"
    }
   ],
   "source": [
    "import pandas as pd\n",
    "import numpy as np\n",
    "import matplotlib.pyplot as plt\n",
    "\n",
    "# 生成模拟数据\n",
    "np.random.seed(42)  # 设置随机种子，保证结果可复现\n",
    "num_data_points_per_sparsity = 5\n",
    "sparsity_range = np.linspace(0.4, 0.8, num_data_points_per_sparsity)\n",
    "noise_level = 0.1  # 噪声水平\n",
    "\n",
    "data = []\n",
    "for sparsity in sparsity_range:\n",
    "    # 困惑度随稀疏度线性增长，并加入随机噪声\n",
    "    perplexity = 1000 * sparsity + 100 + np.random.randn(num_data_points_per_sparsity) * noise_level\n",
    "    for p in perplexity:\n",
    "        data.append([sparsity, p])\n",
    "\n",
    "df = pd.DataFrame(data, columns=['Sparsity', 'Perplexity'])\n",
    "\n",
    "# 计算每个稀疏度下的平均值和标准差\n",
    "grouped_data = df.groupby('Sparsity')\n",
    "mean_perplexity = grouped_data['Perplexity'].mean()\n",
    "std_perplexity = grouped_data['Perplexity'].std()\n",
    "\n",
    "# 绘制误差条图\n",
    "plt.errorbar(\n",
    "    x=mean_perplexity.index,\n",
    "    y=mean_perplexity.values,\n",
    "    yerr=std_perplexity.values,\n",
    "    fmt='o-',\n",
    "    capsize=5\n",
    ")\n",
    "\n",
    "# 设置图表标题、坐标轴标签和刻度\n",
    "# plt.title('模型困惑度随稀疏度的变化')\n",
    "# plt.xlabel('稀疏度')\n",
    "# plt.ylabel('困惑度')\n",
    "plt.yscale('log')  # 设置y轴为对数刻度\n",
    "\n",
    "# 添加网格线\n",
    "plt.grid(linestyle='--')\n",
    "\n",
    "# 显示图表\n",
    "plt.show()"
   ]
  }
 ],
 "metadata": {
  "kernelspec": {
   "display_name": "Python 3 (ipykernel)",
   "language": "python",
   "name": "python3"
  },
  "language_info": {
   "codemirror_mode": {
    "name": "ipython",
    "version": 3
   },
   "file_extension": ".py",
   "mimetype": "text/x-python",
   "name": "python",
   "nbconvert_exporter": "python",
   "pygments_lexer": "ipython3",
   "version": "3.9.12"
  }
 },
 "nbformat": 4,
 "nbformat_minor": 5
}
